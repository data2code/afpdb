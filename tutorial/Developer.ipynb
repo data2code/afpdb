{
 "cells": [
  {
   "cell_type": "markdown",
   "id": "ff23b777-c657-4956-b4f1-bf510c8b7a80",
   "metadata": {},
   "source": [
    "<b><font size=\"6\">Afpdb - Developer's Note</font></b>"
   ]
  },
  {
   "cell_type": "markdown",
   "id": "db1a3ee8-8b93-4f71-8d01-500022f3e4a6",
   "metadata": {},
   "source": [
    "# Installation\n",
    "TODO: When the package is considered stable, we need to publish afpdb into pypi, it then simply \"pip install afpdb\".\n",
    "\n",
    "For Colab users, please skip this cell.\n",
    "\n",
    "The instructions below are for users who would like to install **Afpdb** locally and for developers.\n",
    "\n",
    "1. Python\n",
    "If you do not have Python installed, follow the instructions on https://docs.anaconda.com/free/miniconda/ to install the latest miniconda.\n",
    "Type command ```python``` should launch the Python programming shell, if it is installed successfully.\n",
    "\n",
    "3. Install Afpdb\n",
    "```\n",
    "pip install git+https://github.com/data2code/afpdb.git\n",
    "```\n",
    "\n",
    "3. Jupyter Notebook (optional)\n",
    "To view and run this tutorial, Jupyter should be installed:\n",
    "```\n",
    "pip install notebook\n",
    "```\n",
    "&emsp;&emsp;Type command ```jupyter notebook``` to lauch the Jupyter Notebook, if it is installed successfully.\n",
    "\n",
    "&emsp;&emsp;This is no longer needed. However, if the embedded protein structures do not display in Jupyter after rerun the cell, install the required plugin:\n",
    "```\n",
    "jupyter labextension install jupyterlab_3dmol\n",
    "```\n",
    "\n",
    "4. PyMOL (optional)\n",
    "PyMOL is the preferred application for visualizing protein structures.\n",
    "It is required by examples using ```thread_sequence()``` or `PyMOL()```.\n",
    "To install the open source PyMOL:\n",
    "\n",
    "```\n",
    "conda install conda-forge::pymol-open-source\n",
    "```\n",
    "&emsp;&emsp;In Colab, we also need to run:\n",
    "```\n",
    "conda install conda-forge::openssl=3.2.0 \n",
    "```\n",
    "\n",
    "5. DSSP (optional)\n",
    "Required for the secondary structure prediction with method ```dssp()```.\n",
    "```\n",
    "conda install sbl::dssp\n",
    "```\n",
    "There are multiple options, sbl::dssp suits Apple Silicon.\n",
    "\n",
    "6. matplotlib (optional)\n",
    "Required for the Ramanchondra plot example\n",
    "```\n",
    "pip install matplotlib\n",
    "```\n",
    "\n",
    "5. Install pytest as a developer\n",
    "```\n",
    "pip install pytest\n",
    "```\n",
    "&emsp;&emsp;Type command ```pytest``` within the root folder of the Afpdb package, you will run all test examples in ```tests\\test_all.py```.\n",
    "\n",
    "&emsp;&emsp;For developers, after we fixed the bugs and passed ```pytest```,  we run ```pip install .``` to update the package under the conda installation."
   ]
  },
  {
   "cell_type": "code",
   "execution_count": 1,
   "id": "55140b73-dee9-4d29-a25e-48b968f3f04b",
   "metadata": {},
   "outputs": [],
   "source": [
    "from pathlib import Path\n",
    "import os\n",
    "pwd=Path(os.getcwd())\n",
    "IN_COLAB=str(pwd)==\"/content\" # we are in Google Colab\n",
    "\n",
    "if IN_COLAB:\n",
    "    pwd=Path(\"/content/afpdb/tutorial\")\n",
    "    # remove local proxy setting\n",
    "    os.environ[\"https_proxy\"]=\"\"\n",
    "    os.environ[\"http_proxy\"]=\"\"\n",
    "    os.environ[\"ftp_proxy\"]=\"\"\n",
    "    # install afpdb\n",
    "    if not os.path.isfile(\"INSTALL_AFPDB\"):\n",
    "        ! git clone git+https://github.com/data2code/afpdb.git && cd afpdb && pip install .\n",
    "        ! touch INSTALL_AFPDB\n",
    "    from IPython.display import Javascript\n",
    "    display(Javascript('''google.colab.output.setIframeHeight(0, true, {maxHeight: 50000})'''))\n",
    "    from IPython.display import HTML, display\n",
    "    def set_css():\n",
    "        display(HTML('''\n",
    "          <style>\n",
    "            pre {\n",
    "                white-space: pre-wrap;\n",
    "            }\n",
    "          </style>\n",
    "        '''))\n",
    "    get_ipython().events.register('pre_run_cell', set_css)\n",
    "else: # in a local jupyter notebook\n",
    "    %reload_ext autoreload\n",
    "    %autoreload 2\n",
    "    # we assume afpdb has been preinstall\n",
    "\n",
    "def install_pymol():\n",
    "    try:\n",
    "        import pymol2\n",
    "    except Exception as e:\n",
    "        if not IN_COLAB:\n",
    "            print(\"Please install PyMOL first!\")\n",
    "        else:\n",
    "            !pip install -q condacolab\n",
    "            import condacolab\n",
    "            condacolab.install()\n",
    "            ! conda install conda-forge::pymol-open-source\n",
    "            print(\"Colab does not have openssl 3.2.0, install it...\")\n",
    "            ! conda install conda-forge::openssl=3.2.0\n",
    "            import pymol2\n",
    "\n",
    "from afpdb.afpdb import Protein,util,RS,RL,ATS\n",
    "import numpy as np\n",
    "import pandas as pd\n",
    "import re\n",
    "# two example PDB files used in this tutorial\n",
    "fn = pwd / \"example_files/5cil.pdb\"\n",
    "fk = pwd / \"example_files/fake.pdb\""
   ]
  },
  {
   "cell_type": "markdown",
   "id": "5e9d9282-8892-49e5-82a6-975c1dc22111",
   "metadata": {},
   "source": [
    "# Selection\n",
    "When creating a method that takes a selection argument named 'rs', the first step is to convert it into an internal selection object using:\n",
    "```rs = self.rs(rs)```, this will convert the argument into a RS object, which has its ```data``` member storing the residue indices. Similarly, if we have an atom selection argument named 'ats', do ```ats=self.ats(ats)```. Similarly, if we take a residue list object, we do ```rl=self.rl(rl)```. When we use a residue/atom selection to index atom_positions or atom_mask, check if the selection is empty/full with ats.is_empty() and ats.is_full(). Empty selection often implies an error on the users' side, a full selection means you can skip the indexing, as the original array is already good.\n",
    "\n",
    "Please use ```extract()``` as an example to see how we support selection arguments.\n",
    "\n",
    "# Change in residue/chain\n",
    "The Protein class contains a data structure called ```res_map```, which is a dictionary that maps a full residue name \"{chain}{residue_id}{code}\" into its internal ndarray index. A few methods rely on this mapping. Therefore, whenever a method renames a chain, changes chain orders, mutates a residue, or changes the full residue name and its internal index, ```self._make_res_map()``` should be called at the end. This is also needed in ```extract()``` as the underlying arrays have been changed.\n",
    "\n",
    "# Residue Identifier\n",
    "When outputting a dataframe containing a residue, our recommendation is to provide all residue ID formats. This includes chain, resn, resn_i, resi. Please use ```rs_dist``` as an example. We often use the resi column to create a Residue List object, then use its ```name, namei, chain, aa``` methods to add additional residue annotation data. See the example under ```rs_dist()```.\n",
    "\n",
    "# inplace\n",
    "To support ```inplace```, the idiom is to use: ```obj = self if inplace else self.clone()```, then use obj to manipulate the structure.\n",
    "Please set inplace=False as the default, so that users do not have to memorize what the default is.\n",
    "\n",
    "# Extract Atom Coordinates\n",
    "\n",
    "```p.data.atom_positions``` contains non-existent atoms. It is often faster to compute distances between two residue sets, if we only keep the coordinates for real atoms. This is done with ```_get_xyz()``` method, which returns three variables: (residue_indices, atom_indices, XYZ_array)."
   ]
  },
  {
   "cell_type": "code",
   "execution_count": 2,
   "id": "45e25018-805a-4428-b155-2ac9bffeb93f",
   "metadata": {},
   "outputs": [
    {
     "name": "stdout",
     "output_type": "stream",
     "text": [
      "Warning: residues with insertion code: L6A, L6B\n",
      "Residue ID: [4 4 5 5] ['3', '3', '4', '4'] \n",
      "\n",
      "Atom ID: [0 1 0 1] ['N', 'CA', 'N', 'CA'] \n",
      "\n",
      "XYZ: [[ 27.36800003   6.44000006 -19.10700035]\n",
      " [ 25.96999931   6.87099981 -19.03800011]\n",
      " [ 25.29100037   9.00800037 -18.09000015]\n",
      " [ 25.11199951   9.9829998  -16.98600006]]\n"
     ]
    }
   ],
   "source": [
    "p=Protein(fk)\n",
    "rs_i, atom_i, xyz=p._get_xyz(p.rs(\"H\"), p.ats(\"N,CA\"))\n",
    "print(\"Residue ID:\", rs_i, p.rl(rs_i).name(), \"\\n\")\n",
    "print(\"Atom ID:\", atom_i, [str(p.ats(x)) for x in atom_i], \"\\n\")\n",
    "print(\"XYZ:\", xyz)"
   ]
  },
  {
   "cell_type": "markdown",
   "id": "42592323-e4f2-41b0-99ca-81c4eba49cd6",
   "metadata": {},
   "source": [
    "Note: To extract a rectangular subarray of rows and columns, we need to use ```np.ix_```."
   ]
  },
  {
   "cell_type": "code",
   "execution_count": 3,
   "id": "46b1a5fc-1af5-4aa7-8661-424049b599e9",
   "metadata": {},
   "outputs": [
    {
     "name": "stdout",
     "output_type": "stream",
     "text": [
      "Warning: residues with insertion code: L6A, L6B\n",
      "shape mismatch: indexing arrays could not be broadcast together with shapes (2,) (6,) \n",
      "\n",
      "\n",
      "(2, 6) \n",
      "a [[1. 1. 1. 1. 1. 0.]\n",
      " [1. 1. 1. 1. 1. 1.]] \n",
      "\n",
      "[[1. 1. 1. 1. 1. 0.]\n",
      " [1. 1. 1. 1. 1. 1.]]\n"
     ]
    }
   ],
   "source": [
    "p=Protein(fk)\n",
    "# the followin is an error, as the row indice have two residues, column indices have 4 atoms\n",
    "# NumPy tries to pair the indices\n",
    "try:\n",
    "    p.data.atom_mask[np.array([2,3]), ATS(\"N,CA,C,O,CB,CG\").data]\n",
    "except Exception as e:\n",
    "    print(e)\n",
    "# The correct way is to generate a mesh indices\n",
    "print(\"\\n\")\n",
    "x=p.data.atom_mask[np.ix_(np.array([2,3]), ATS(\"N,CA,C,O,CB,CG\").data)]\n",
    "print(x.shape, \"\\na\", x, \"\\n\")\n",
    "# or\n",
    "print(p.data.atom_mask[np.array([2,3])][:, ATS(\"N,CA,C,O,CB,CG\").data])"
   ]
  },
  {
   "cell_type": "markdown",
   "id": "b5669d71-b3dc-49b1-9ba7-eb9785396ff1",
   "metadata": {},
   "source": [
    "## Extract Atom Pair Coordinates\n",
    "\n",
    "For ```align``` and ```rmsd```, we need to extract atom coordinates in pairs, we can use ```_get_xyz_pair```.\n",
    "\n",
    "Note: If two residues have different types (their side chain atoms are different), only the common atoms are included."
   ]
  },
  {
   "cell_type": "code",
   "execution_count": 4,
   "id": "a9330d5a-3167-40a7-92ae-ad84b8e55da1",
   "metadata": {},
   "outputs": [
    {
     "name": "stdout",
     "output_type": "stream",
     "text": [
      "Warning: residues with insertion code: L6A, L6B\n",
      "Protein i\n",
      "\n",
      "Residue ID: [4 4 5 5] ['3', '3', '4', '4'] \n",
      "\n",
      "Atom ID: [0 1 0 1] ['N', 'CA', 'N', 'CA'] \n",
      "\n",
      "XYZ: [[ 27.36800003   6.44000006 -19.10700035]\n",
      " [ 25.96999931   6.87099981 -19.03800011]\n",
      " [ 25.29100037   9.00800037 -18.09000015]\n",
      " [ 25.11199951   9.9829998  -16.98600006]]\n",
      "\n",
      "\n",
      "\n",
      "Protein j\n",
      "\n",
      "Residue ID: [4 4 5 5] ['3', '3', '4', '4'] \n",
      "\n",
      "Atom ID: [0 1 0 1] ['N', 'CA', 'N', 'CA'] \n",
      "\n",
      "XYZ: [[ 28.36800003   6.44000006 -20.10700035]\n",
      " [ 26.96999931   6.87099981 -20.03800011]\n",
      " [ 26.29100037   9.00800037 -19.09000015]\n",
      " [ 26.11199951   9.9829998  -17.98600006]]\n"
     ]
    }
   ],
   "source": [
    "p=Protein(fk)\n",
    "# move X by 1, Y/Z remains the same\n",
    "q=p.translate(np.array([1,0,-1]), inplace=False)\n",
    "rs_i, atom_i, rs_j, atom_j, xyz_i, xyz_j=p._get_xyz_pair(q, p.rs(\"H\"), q.rs(\"H\"), ATS(\"N,CA\"))\n",
    "print(\"Protein i\\n\")\n",
    "print(\"Residue ID:\", rs_i, p.rl(rs_i).name(), \"\\n\")\n",
    "print(\"Atom ID:\", atom_i, [str(p.ats(x)) for x in atom_i], \"\\n\")\n",
    "print(\"XYZ:\", xyz_i)\n",
    "print(\"\\n\\n\")\n",
    "print(\"Protein j\\n\")\n",
    "print(\"Residue ID:\", rs_j, p.rl(rs_j).name(), \"\\n\")\n",
    "print(\"Atom ID:\", atom_j, [str(p.ats(x)) for x in atom_j], \"\\n\")\n",
    "print(\"XYZ:\", xyz_j)"
   ]
  },
  {
   "cell_type": "markdown",
   "id": "f0166b8a-d024-46a1-a27f-bca6a06430da",
   "metadata": {},
   "source": [
    "## Caution\n",
    "When we add a new method, please keep in mind that the residue index may not start from 1, a residue index may contain insertion code, there can be gaps in the residue index (missing residues), the integer part of the residue index may not be unique within a chain (e.g. 6A and 6B). You should use the file \"fk\" to test your method. Please also add a corresponding test method into ```tests/test_all.py```."
   ]
  },
  {
   "cell_type": "code",
   "execution_count": null,
   "id": "f9c06119-24a1-48cc-b45a-fc7ff693b329",
   "metadata": {},
   "outputs": [],
   "source": []
  }
 ],
 "metadata": {
  "kernelspec": {
   "display_name": "Python 3 (ipykernel)",
   "language": "python",
   "name": "python3"
  },
  "language_info": {
   "codemirror_mode": {
    "name": "ipython",
    "version": 3
   },
   "file_extension": ".py",
   "mimetype": "text/x-python",
   "name": "python",
   "nbconvert_exporter": "python",
   "pygments_lexer": "ipython3",
   "version": "3.11.8"
  }
 },
 "nbformat": 4,
 "nbformat_minor": 5
}
